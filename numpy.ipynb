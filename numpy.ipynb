{
 "cells": [
  {
   "cell_type": "code",
   "execution_count": 150,
   "id": "32138b40",
   "metadata": {},
   "outputs": [],
   "source": [
    "from IPython.core.interactiveshell import InteractiveShell\n",
    "InteractiveShell.ast_node_interactivity = 'all'"
   ]
  },
  {
   "cell_type": "code",
   "execution_count": 151,
   "id": "ca7b5a65",
   "metadata": {},
   "outputs": [],
   "source": [
    "from numpy import array"
   ]
  },
  {
   "cell_type": "code",
   "execution_count": 152,
   "id": "abab3bd5",
   "metadata": {},
   "outputs": [
    {
     "data": {
      "text/plain": [
       "array([1, 2, 3, 4, 5, 6])"
      ]
     },
     "execution_count": 152,
     "metadata": {},
     "output_type": "execute_result"
    }
   ],
   "source": [
    "array([1,2,3,4,5,6,])"
   ]
  },
  {
   "cell_type": "code",
   "execution_count": 153,
   "id": "c3062461",
   "metadata": {},
   "outputs": [
    {
     "data": {
      "text/plain": [
       "array([1, 2, 3, 4, 5, 6])"
      ]
     },
     "execution_count": 153,
     "metadata": {},
     "output_type": "execute_result"
    }
   ],
   "source": [
    "import numpy as np\n",
    "np.array([1,2,3,4,5,6])"
   ]
  },
  {
   "cell_type": "code",
   "execution_count": 154,
   "id": "264d7479",
   "metadata": {},
   "outputs": [
    {
     "data": {
      "text/plain": [
       "array(['1', 'True', 'fals', '4', '5'], dtype='<U11')"
      ]
     },
     "execution_count": 154,
     "metadata": {},
     "output_type": "execute_result"
    }
   ],
   "source": [
    "from numpy import array\n",
    "arr=array([1,True,'fals',4,5,])\n",
    "arr"
   ]
  },
  {
   "cell_type": "code",
   "execution_count": 155,
   "id": "f0619fff",
   "metadata": {},
   "outputs": [
    {
     "data": {
      "text/plain": [
       "dtype('<U11')"
      ]
     },
     "execution_count": 155,
     "metadata": {},
     "output_type": "execute_result"
    }
   ],
   "source": [
    "arr.dtype"
   ]
  },
  {
   "cell_type": "code",
   "execution_count": 156,
   "id": "955b5173",
   "metadata": {},
   "outputs": [
    {
     "data": {
      "text/plain": [
       "(numpy.str_, numpy.str_, numpy.str_)"
      ]
     },
     "execution_count": 156,
     "metadata": {},
     "output_type": "execute_result"
    }
   ],
   "source": [
    "type(arr[0]),type(arr[1]),type(arr[2])"
   ]
  },
  {
   "cell_type": "code",
   "execution_count": 157,
   "id": "ceaf9d4e",
   "metadata": {},
   "outputs": [
    {
     "data": {
      "text/plain": [
       "[1, 2, 3, 4, 1, 2, 3, 4]"
      ]
     },
     "execution_count": 157,
     "metadata": {},
     "output_type": "execute_result"
    }
   ],
   "source": [
    "x=[1,2,3,4]\n",
    "x*2"
   ]
  },
  {
   "cell_type": "code",
   "execution_count": 158,
   "id": "ff5aeff3",
   "metadata": {},
   "outputs": [
    {
     "ename": "TypeError",
     "evalue": "unsupported operand type(s) for %: 'list' and 'int'",
     "output_type": "error",
     "traceback": [
      "\u001b[1;31m---------------------------------------------------------------------------\u001b[0m",
      "\u001b[1;31mTypeError\u001b[0m                                 Traceback (most recent call last)",
      "\u001b[1;32m~\\AppData\\Local\\Temp\\ipykernel_10884\\769947331.py\u001b[0m in \u001b[0;36m<module>\u001b[1;34m\u001b[0m\n\u001b[1;32m----> 1\u001b[1;33m \u001b[0mx\u001b[0m\u001b[1;33m%\u001b[0m\u001b[1;36m2\u001b[0m\u001b[1;33m\u001b[0m\u001b[1;33m\u001b[0m\u001b[0m\n\u001b[0m",
      "\u001b[1;31mTypeError\u001b[0m: unsupported operand type(s) for %: 'list' and 'int'"
     ]
    }
   ],
   "source": [
    "x%2"
   ]
  },
  {
   "cell_type": "code",
   "execution_count": 159,
   "id": "e99a2716",
   "metadata": {},
   "outputs": [
    {
     "data": {
      "text/plain": [
       "[1, 2, 3, 4]"
      ]
     },
     "execution_count": 159,
     "metadata": {},
     "output_type": "execute_result"
    }
   ],
   "source": [
    "x_arr=np.array(x)*2\n",
    "x"
   ]
  },
  {
   "cell_type": "code",
   "execution_count": 160,
   "id": "213f0818",
   "metadata": {},
   "outputs": [],
   "source": [
    "x_arr=np.array([12,14,16,18\n",
    "               ])"
   ]
  },
  {
   "cell_type": "code",
   "execution_count": 161,
   "id": "b12abf6c",
   "metadata": {},
   "outputs": [
    {
     "data": {
      "text/plain": [
       "array([5, 6, 7, 8])"
      ]
     },
     "execution_count": 161,
     "metadata": {},
     "output_type": "execute_result"
    }
   ],
   "source": [
    "y_arr=np.array([5,6,7,8,])\n",
    "y_arr\n"
   ]
  },
  {
   "cell_type": "code",
   "execution_count": 162,
   "id": "212f4437",
   "metadata": {},
   "outputs": [
    {
     "data": {
      "text/plain": [
       "array([ 60,  84, 112, 144])"
      ]
     },
     "execution_count": 162,
     "metadata": {},
     "output_type": "execute_result"
    }
   ],
   "source": [
    "x_arr*y_arr"
   ]
  },
  {
   "cell_type": "code",
   "execution_count": 163,
   "id": "476d5ad6",
   "metadata": {},
   "outputs": [
    {
     "data": {
      "text/plain": [
       "array([2, 2, 2, 2], dtype=int32)"
      ]
     },
     "execution_count": 163,
     "metadata": {},
     "output_type": "execute_result"
    }
   ],
   "source": [
    "x_arr%y_arr"
   ]
  },
  {
   "cell_type": "code",
   "execution_count": 164,
   "id": "64dd99f4",
   "metadata": {},
   "outputs": [
    {
     "data": {
      "text/plain": [
       "array([2., 2., 2., 2.])"
      ]
     },
     "execution_count": 164,
     "metadata": {},
     "output_type": "execute_result"
    }
   ],
   "source": [
    "np.round(x_arr/y_arr)"
   ]
  },
  {
   "cell_type": "code",
   "execution_count": 165,
   "id": "af27144e",
   "metadata": {},
   "outputs": [
    {
     "data": {
      "text/plain": [
       "array([2, 2, 2, 2], dtype=int32)"
      ]
     },
     "execution_count": 165,
     "metadata": {},
     "output_type": "execute_result"
    }
   ],
   "source": [
    "x_arr//y_arr"
   ]
  },
  {
   "cell_type": "code",
   "execution_count": 166,
   "id": "80273052",
   "metadata": {},
   "outputs": [
    {
     "data": {
      "text/plain": [
       "array([1, 2, 1])"
      ]
     },
     "execution_count": 166,
     "metadata": {},
     "output_type": "execute_result"
    }
   ],
   "source": [
    "np.array([1,2,True])"
   ]
  },
  {
   "cell_type": "code",
   "execution_count": 167,
   "id": "3f9ec0ed",
   "metadata": {},
   "outputs": [
    {
     "data": {
      "text/plain": [
       "array([ 1,  3,  3,  4,  5,  6,  3,  8, 10,  9])"
      ]
     },
     "execution_count": 167,
     "metadata": {},
     "output_type": "execute_result"
    }
   ],
   "source": [
    "arr=np.array([1,3,3,4,5,6,3,8,10,9])\n",
    "arr"
   ]
  },
  {
   "cell_type": "code",
   "execution_count": 168,
   "id": "55cdbbbd",
   "metadata": {},
   "outputs": [
    {
     "data": {
      "text/plain": [
       "numpy.ndarray"
      ]
     },
     "execution_count": 168,
     "metadata": {},
     "output_type": "execute_result"
    }
   ],
   "source": [
    "type(arr)"
   ]
  },
  {
   "cell_type": "code",
   "execution_count": 169,
   "id": "6bf997ec",
   "metadata": {},
   "outputs": [
    {
     "data": {
      "text/plain": [
       "array([False, False, False, False,  True,  True, False,  True,  True,\n",
       "        True])"
      ]
     },
     "execution_count": 169,
     "metadata": {},
     "output_type": "execute_result"
    }
   ],
   "source": [
    "arr>4"
   ]
  },
  {
   "cell_type": "code",
   "execution_count": 170,
   "id": "6ec40e47",
   "metadata": {},
   "outputs": [
    {
     "data": {
      "text/plain": [
       "array([ 5,  6,  8, 10,  9])"
      ]
     },
     "execution_count": 170,
     "metadata": {},
     "output_type": "execute_result"
    }
   ],
   "source": [
    "arr[arr>4]"
   ]
  },
  {
   "cell_type": "code",
   "execution_count": 171,
   "id": "e726d954",
   "metadata": {},
   "outputs": [
    {
     "data": {
      "text/plain": [
       "10"
      ]
     },
     "execution_count": 171,
     "metadata": {},
     "output_type": "execute_result"
    }
   ],
   "source": [
    "max(arr)"
   ]
  },
  {
   "cell_type": "code",
   "execution_count": 172,
   "id": "5ba00f48",
   "metadata": {},
   "outputs": [
    {
     "data": {
      "text/plain": [
       "1"
      ]
     },
     "execution_count": 172,
     "metadata": {},
     "output_type": "execute_result"
    }
   ],
   "source": [
    "min(arr)"
   ]
  },
  {
   "cell_type": "code",
   "execution_count": 173,
   "id": "dd1821a8",
   "metadata": {},
   "outputs": [
    {
     "data": {
      "text/plain": [
       "7"
      ]
     },
     "execution_count": 173,
     "metadata": {},
     "output_type": "execute_result"
    }
   ],
   "source": [
    "sum(arr<=7)"
   ]
  },
  {
   "cell_type": "code",
   "execution_count": 174,
   "id": "147fe0ef",
   "metadata": {},
   "outputs": [],
   "source": [
    "import statistics"
   ]
  },
  {
   "cell_type": "code",
   "execution_count": 175,
   "id": "6fcb90a0",
   "metadata": {},
   "outputs": [
    {
     "data": {
      "text/plain": [
       "3"
      ]
     },
     "execution_count": 175,
     "metadata": {},
     "output_type": "execute_result"
    }
   ],
   "source": [
    "statistics.mode(arr)"
   ]
  },
  {
   "cell_type": "code",
   "execution_count": 176,
   "id": "7830869d",
   "metadata": {},
   "outputs": [
    {
     "data": {
      "text/plain": [
       "array([[1, 2, 3, 4],\n",
       "       [5, 6, 7, 8]])"
      ]
     },
     "execution_count": 176,
     "metadata": {},
     "output_type": "execute_result"
    }
   ],
   "source": [
    "xarr2d=np.array([[1,2,3,4],[5,6,7,8]])\n",
    "xarr2d"
   ]
  },
  {
   "cell_type": "code",
   "execution_count": 177,
   "id": "24e4a26c",
   "metadata": {},
   "outputs": [
    {
     "data": {
      "text/plain": [
       "2"
      ]
     },
     "execution_count": 177,
     "metadata": {},
     "output_type": "execute_result"
    }
   ],
   "source": [
    "xarr2d.ndim"
   ]
  },
  {
   "cell_type": "code",
   "execution_count": 178,
   "id": "acbf4805",
   "metadata": {},
   "outputs": [
    {
     "data": {
      "text/plain": [
       "(2, 4)"
      ]
     },
     "execution_count": 178,
     "metadata": {},
     "output_type": "execute_result"
    }
   ],
   "source": [
    "xarr2d.shape"
   ]
  },
  {
   "cell_type": "code",
   "execution_count": 179,
   "id": "c2471a04",
   "metadata": {},
   "outputs": [
    {
     "data": {
      "text/plain": [
       "array([[1, 2, 3, 4],\n",
       "       [5, 6, 7, 8]])"
      ]
     },
     "execution_count": 179,
     "metadata": {},
     "output_type": "execute_result"
    }
   ],
   "source": [
    "xarr2d=np.array([1,2,3,4,5,6,7,8]).reshape(2,4)\n",
    "xarr2d"
   ]
  },
  {
   "cell_type": "code",
   "execution_count": 180,
   "id": "e8adfcc9",
   "metadata": {},
   "outputs": [
    {
     "data": {
      "text/plain": [
       "array([[ 1,  2,  4],\n",
       "       [ 5,  6,  7],\n",
       "       [ 8,  9, 10]])"
      ]
     },
     "execution_count": 180,
     "metadata": {},
     "output_type": "execute_result"
    }
   ],
   "source": [
    "xarr2d=np.array([1,2,4,5,6,7,8,9,10]).reshape(3,-1)\n",
    "xarr2d"
   ]
  },
  {
   "cell_type": "code",
   "execution_count": 181,
   "id": "a8c247af",
   "metadata": {},
   "outputs": [
    {
     "data": {
      "text/plain": [
       "array([1, 2, 4])"
      ]
     },
     "execution_count": 181,
     "metadata": {},
     "output_type": "execute_result"
    }
   ],
   "source": [
    "xarr2d[0]"
   ]
  },
  {
   "cell_type": "code",
   "execution_count": 182,
   "id": "7918e23a",
   "metadata": {},
   "outputs": [
    {
     "data": {
      "text/plain": [
       "(array([ 8,  9, 10]), array([5, 6, 7]))"
      ]
     },
     "execution_count": 182,
     "metadata": {},
     "output_type": "execute_result"
    }
   ],
   "source": [
    "xarr2d[2],xarr2d[1]"
   ]
  },
  {
   "cell_type": "code",
   "execution_count": 183,
   "id": "1540ab5f",
   "metadata": {},
   "outputs": [
    {
     "data": {
      "text/plain": [
       "array([1, 2, 4])"
      ]
     },
     "execution_count": 183,
     "metadata": {},
     "output_type": "execute_result"
    }
   ],
   "source": [
    "xarr2d[0][:]"
   ]
  },
  {
   "cell_type": "code",
   "execution_count": 184,
   "id": "a3794d75",
   "metadata": {},
   "outputs": [
    {
     "data": {
      "text/plain": [
       "array([5, 6, 7])"
      ]
     },
     "execution_count": 184,
     "metadata": {},
     "output_type": "execute_result"
    }
   ],
   "source": [
    "xarr2d[1,0:]"
   ]
  },
  {
   "cell_type": "code",
   "execution_count": 185,
   "id": "f30a71e8",
   "metadata": {},
   "outputs": [
    {
     "data": {
      "text/plain": [
       "array([[2],\n",
       "       [6],\n",
       "       [9]])"
      ]
     },
     "execution_count": 185,
     "metadata": {},
     "output_type": "execute_result"
    }
   ],
   "source": [
    "xarr2d[0:,1:2]"
   ]
  },
  {
   "cell_type": "code",
   "execution_count": 186,
   "id": "99cff4cf",
   "metadata": {},
   "outputs": [
    {
     "data": {
      "text/plain": [
       "array([[ 2,  4],\n",
       "       [ 6,  7],\n",
       "       [ 9, 10]])"
      ]
     },
     "execution_count": 186,
     "metadata": {},
     "output_type": "execute_result"
    }
   ],
   "source": [
    "xarr2d[:,1:3]"
   ]
  },
  {
   "cell_type": "code",
   "execution_count": 187,
   "id": "63237ae2",
   "metadata": {},
   "outputs": [
    {
     "data": {
      "text/plain": [
       "array([[1, 4],\n",
       "       [2, 5],\n",
       "       [3, 6]])"
      ]
     },
     "execution_count": 187,
     "metadata": {},
     "output_type": "execute_result"
    }
   ],
   "source": [
    "xarr=np.array([1,2,3])\n",
    "yarr=np.array([4,5,6])\n",
    "np.column_stack((xarr,yarr))"
   ]
  },
  {
   "cell_type": "code",
   "execution_count": 188,
   "id": "8a18b221",
   "metadata": {},
   "outputs": [
    {
     "data": {
      "text/plain": [
       "array([[1, 2, 3],\n",
       "       [4, 5, 6]])"
      ]
     },
     "execution_count": 188,
     "metadata": {},
     "output_type": "execute_result"
    }
   ],
   "source": [
    "np.row_stack((xarr,yarr))"
   ]
  },
  {
   "cell_type": "code",
   "execution_count": 189,
   "id": "0a9cf71e",
   "metadata": {},
   "outputs": [
    {
     "data": {
      "text/plain": [
       "array([0, 1, 3, 4, 5])"
      ]
     },
     "execution_count": 189,
     "metadata": {},
     "output_type": "execute_result"
    }
   ],
   "source": [
    "np.unique(np.random.randint(0,9,5))"
   ]
  },
  {
   "cell_type": "code",
   "execution_count": 190,
   "id": "d61dbd8a",
   "metadata": {},
   "outputs": [
    {
     "data": {
      "text/plain": [
       "array([4, 5, 6, 7, 8])"
      ]
     },
     "execution_count": 190,
     "metadata": {},
     "output_type": "execute_result"
    }
   ],
   "source": [
    "np.unique(np.random.randint(0,9,5))"
   ]
  },
  {
   "cell_type": "code",
   "execution_count": 191,
   "id": "af591c75",
   "metadata": {},
   "outputs": [
    {
     "data": {
      "text/plain": [
       "array([5, 6, 8])"
      ]
     },
     "execution_count": 191,
     "metadata": {},
     "output_type": "execute_result"
    }
   ],
   "source": [
    "arr=np.array([5,6,8])\n",
    "arr"
   ]
  },
  {
   "cell_type": "code",
   "execution_count": 192,
   "id": "776defd8",
   "metadata": {},
   "outputs": [
    {
     "data": {
      "text/plain": [
       "array([8, 6, 5])"
      ]
     },
     "execution_count": 192,
     "metadata": {},
     "output_type": "execute_result"
    }
   ],
   "source": [
    "arr[np.argsort(-arr)]"
   ]
  },
  {
   "cell_type": "code",
   "execution_count": 193,
   "id": "f1200142",
   "metadata": {},
   "outputs": [
    {
     "data": {
      "text/plain": [
       "array(['gh', 'hj', 'yu'], dtype='<U2')"
      ]
     },
     "execution_count": 193,
     "metadata": {},
     "output_type": "execute_result"
    }
   ],
   "source": [
    "marks=np.array([54,67,89])\n",
    "names=np.array(['yu','hj','gh'])\n",
    "names[np.argsort(-marks)]"
   ]
  },
  {
   "cell_type": "code",
   "execution_count": 194,
   "id": "1b502668",
   "metadata": {},
   "outputs": [
    {
     "data": {
      "text/plain": [
       "matrix([[1, 2],\n",
       "        [3, 4],\n",
       "        [5, 6],\n",
       "        [7, 8]])"
      ]
     },
     "execution_count": 194,
     "metadata": {},
     "output_type": "execute_result"
    }
   ],
   "source": [
    "mat=np.mat([[1,2,3,4],[5,6,7,8]]).reshape(4,-1)\n",
    "mat"
   ]
  },
  {
   "cell_type": "code",
   "execution_count": 195,
   "id": "d6cc01ec",
   "metadata": {},
   "outputs": [
    {
     "data": {
      "text/plain": [
       "matrix([[1, 2],\n",
       "        [3, 3],\n",
       "        [4, 5]])"
      ]
     },
     "execution_count": 195,
     "metadata": {},
     "output_type": "execute_result"
    }
   ],
   "source": [
    "mat=np.mat('1 2 3;3 4 5')\n",
    "mat.reshape(3,-1)"
   ]
  },
  {
   "cell_type": "code",
   "execution_count": 196,
   "id": "7b019948",
   "metadata": {},
   "outputs": [
    {
     "data": {
      "text/plain": [
       "matrix([[1, 3, 2],\n",
       "        [4, 3, 5]])"
      ]
     },
     "execution_count": 196,
     "metadata": {},
     "output_type": "execute_result"
    },
    {
     "data": {
      "text/plain": [
       "matrix([[1, 2, 3],\n",
       "        [3, 4, 5]])"
      ]
     },
     "execution_count": 196,
     "metadata": {},
     "output_type": "execute_result"
    }
   ],
   "source": [
    "mat.T.reshape(2,-1)\n",
    "mat"
   ]
  },
  {
   "cell_type": "code",
   "execution_count": 202,
   "id": "3dc3cdde",
   "metadata": {},
   "outputs": [
    {
     "data": {
      "text/plain": [
       "matrix([[1, 2, 3],\n",
       "        [3, 4, 5],\n",
       "        [5, 7, 8]])"
      ]
     },
     "execution_count": 202,
     "metadata": {},
     "output_type": "execute_result"
    }
   ],
   "source": [
    "new=np.array([5,7,8])\n",
    "matrx=np.append(mat,[new],axis=0)\n",
    "matrx"
   ]
  },
  {
   "cell_type": "code",
   "execution_count": 201,
   "id": "29db8d98",
   "metadata": {},
   "outputs": [
    {
     "data": {
      "text/plain": [
       "matrix([[1, 3, 5],\n",
       "        [2, 4, 7],\n",
       "        [3, 5, 8]])"
      ]
     },
     "execution_count": 201,
     "metadata": {},
     "output_type": "execute_result"
    }
   ],
   "source": [
    "matrx.T"
   ]
  },
  {
   "cell_type": "code",
   "execution_count": 203,
   "id": "d30b1111",
   "metadata": {},
   "outputs": [
    {
     "data": {
      "text/plain": [
       "matrix([[-1.5,  2.5, -1. ],\n",
       "        [ 0.5, -3.5,  2. ],\n",
       "        [ 0.5,  1.5, -1. ]])"
      ]
     },
     "execution_count": 203,
     "metadata": {},
     "output_type": "execute_result"
    }
   ],
   "source": [
    "matrx.I"
   ]
  },
  {
   "cell_type": "code",
   "execution_count": 205,
   "id": "6e706a54",
   "metadata": {},
   "outputs": [
    {
     "data": {
      "text/plain": [
       "matrix([[-1.5,  2.5, -1. ],\n",
       "        [ 0.5, -3.5,  2. ],\n",
       "        [ 0.5,  1.5, -1. ]])"
      ]
     },
     "execution_count": 205,
     "metadata": {},
     "output_type": "execute_result"
    }
   ],
   "source": [
    "np.linalg.inv(matrx)"
   ]
  },
  {
   "cell_type": "code",
   "execution_count": 212,
   "id": "5a4de1c2",
   "metadata": {},
   "outputs": [
    {
     "data": {
      "text/plain": [
       "matrix([[0, 1, 2, 3, 4],\n",
       "        [5, 6, 7, 8, 9]])"
      ]
     },
     "execution_count": 212,
     "metadata": {},
     "output_type": "execute_result"
    }
   ],
   "source": [
    "m=np.mat(np.arange(10).reshape(2,5))\n",
    "m"
   ]
  },
  {
   "cell_type": "code",
   "execution_count": 214,
   "id": "05576a86",
   "metadata": {},
   "outputs": [
    {
     "data": {
      "text/plain": [
       "matrix([[1, 2],\n",
       "        [3, 3],\n",
       "        [4, 5]])"
      ]
     },
     "execution_count": 214,
     "metadata": {},
     "output_type": "execute_result"
    }
   ],
   "source": [
    "n=mat.reshape(3,2)\n",
    "n"
   ]
  },
  {
   "cell_type": "code",
   "execution_count": 215,
   "id": "b0a1e544",
   "metadata": {},
   "outputs": [
    {
     "data": {
      "text/plain": [
       "matrix([[10, 13, 16, 19, 22],\n",
       "        [15, 21, 27, 33, 39],\n",
       "        [25, 34, 43, 52, 61]])"
      ]
     },
     "execution_count": 215,
     "metadata": {},
     "output_type": "execute_result"
    }
   ],
   "source": [
    "n@m"
   ]
  },
  {
   "cell_type": "code",
   "execution_count": 216,
   "id": "3a748e00",
   "metadata": {},
   "outputs": [
    {
     "data": {
      "text/plain": [
       "matrix([[10, 13, 16, 19, 22],\n",
       "        [15, 21, 27, 33, 39],\n",
       "        [25, 34, 43, 52, 61]])"
      ]
     },
     "execution_count": 216,
     "metadata": {},
     "output_type": "execute_result"
    }
   ],
   "source": [
    "np.matmul(n,m)"
   ]
  },
  {
   "cell_type": "code",
   "execution_count": 218,
   "id": "fb9cb746",
   "metadata": {},
   "outputs": [],
   "source": [
    "m=np.linspace(start=0,stop=6, num=100)"
   ]
  },
  {
   "cell_type": "code",
   "execution_count": 223,
   "id": "ab9524ee",
   "metadata": {},
   "outputs": [
    {
     "data": {
      "text/plain": [
       "100"
      ]
     },
     "execution_count": 223,
     "metadata": {},
     "output_type": "execute_result"
    }
   ],
   "source": [
    "np.size(m)"
   ]
  },
  {
   "cell_type": "code",
   "execution_count": 228,
   "id": "fe05102f",
   "metadata": {},
   "outputs": [],
   "source": [
    "z=np.round(np.random.normal(0,1,100),2)"
   ]
  },
  {
   "cell_type": "code",
   "execution_count": 231,
   "id": "d1b4ea4a",
   "metadata": {},
   "outputs": [
    {
     "data": {
      "text/plain": [
       "array([ 4.15      ,  3.78121212,  3.65242424,  4.46363636,  4.51484848,\n",
       "        3.80606061,  4.44727273,  3.70848485,  4.20969697,  3.59090909,\n",
       "        4.12212121,  2.79333333,  5.72454545,  4.93575758,  3.1369697 ,\n",
       "        5.16818182,  4.61939394,  4.50060606,  3.95181818,  4.1830303 ,\n",
       "        4.07424242,  4.89545455,  6.51666667,  7.26787879,  6.00909091,\n",
       "        7.37030303,  6.00151515,  5.09272727,  7.37393939,  6.11515152,\n",
       "        8.37636364,  9.09757576,  5.52878788,  5.91      ,  5.67121212,\n",
       "        8.49242424,  7.40363636,  8.28484848,  7.39606061,  6.85727273,\n",
       "        6.36848485,  8.42969697,  9.78090909,  9.37212121,  7.59333333,\n",
       "        8.60454545,  7.98575758,  9.4869697 ,  7.39818182,  8.76939394,\n",
       "       10.35060606,  9.86181818,  9.4930303 ,  8.26424242,  9.54545455,\n",
       "       10.89666667, 10.17787879, 11.02909091,  9.65030303, 10.83151515,\n",
       "       12.22272727, 10.64393939, 12.75515152,  9.37636364, 10.32757576,\n",
       "       10.03878788, 10.63      , 11.14121212, 11.99242424, 11.32363636,\n",
       "       11.78484848,  9.20606061, 11.51727273, 12.22848485, 12.05969697,\n",
       "       13.04090909, 11.40212121, 14.38333333, 10.39454545, 11.74575758,\n",
       "       14.0269697 , 13.75818182, 12.39939394, 14.69060606, 11.88181818,\n",
       "       14.7730303 , 13.88424242, 13.82545455, 14.00666667, 16.48787879,\n",
       "       14.57909091, 13.06030303, 16.13151515, 15.80272727, 15.77393939,\n",
       "       14.84515152, 15.63636364, 13.73757576, 16.43878788, 14.13      ])"
      ]
     },
     "execution_count": 231,
     "metadata": {},
     "output_type": "execute_result"
    },
    {
     "data": {
      "text/plain": [
       "<matplotlib.collections.PathCollection at 0x258fa5a8e20>"
      ]
     },
     "execution_count": 231,
     "metadata": {},
     "output_type": "execute_result"
    },
    {
     "data": {
      "image/png": "[encoded data removed]",
      "text/plain": [
       "<Figure size 640x480 with 1 Axes>"
      ]
     },
     "metadata": {},
     "output_type": "display_data"
    }
   ],
   "source": [
    "import matplotlib.pyplot as plt\n",
    "y=2*m+3+z\n",
    "y\n",
    "plt.scatter(m,y)"
   ]
  },
  {
   "cell_type": "code",
   "execution_count": 236,
   "id": "09167bd1",
   "metadata": {},
   "outputs": [
    {
     "data": {
      "text/plain": [
       "[<matplotlib.lines.Line2D at 0x258fa75aa90>]"
      ]
     },
     "execution_count": 236,
     "metadata": {},
     "output_type": "execute_result"
    },
    {
     "data": {
      "image/png": "[encoded data removed]",
      "text/plain": [
       "<Figure size 640x480 with 1 Axes>"
      ]
     },
     "metadata": {},
     "output_type": "display_data"
    }
   ],
   "source": [
    "x=np.linspace(0,np.pi*2,100)\n",
    "plt.plot(np.tan(x))"
   ]
  },
  {
   "cell_type": "code",
   "execution_count": 237,
   "id": "46c5d94a",
   "metadata": {},
   "outputs": [
    {
     "data": {
      "text/plain": [
       "array([0.23323787, 0.08534626])"
      ]
     },
     "execution_count": 237,
     "metadata": {},
     "output_type": "execute_result"
    }
   ],
   "source": [
    "np.random.rand(2)"
   ]
  },
  {
   "cell_type": "code",
   "execution_count": 240,
   "id": "91847ea5",
   "metadata": {},
   "outputs": [
    {
     "data": {
      "text/plain": [
       "array([0.29436771, 0.94272285])"
      ]
     },
     "execution_count": 240,
     "metadata": {},
     "output_type": "execute_result"
    }
   ],
   "source": [
    "np.random.rand(2)"
   ]
  },
  {
   "cell_type": "code",
   "execution_count": 239,
   "id": "1e5c3420",
   "metadata": {},
   "outputs": [
    {
     "data": {
      "text/plain": [
       "array([], shape=(0, 5, 4), dtype=float64)"
      ]
     },
     "execution_count": 239,
     "metadata": {},
     "output_type": "execute_result"
    }
   ],
   "source": [
    "np.random.rand(0,5,4)"
   ]
  },
  {
   "cell_type": "code",
   "execution_count": 242,
   "id": "0eda76f7",
   "metadata": {},
   "outputs": [
    {
     "data": {
      "text/plain": [
       "array([0.417022  , 0.72032449])"
      ]
     },
     "execution_count": 242,
     "metadata": {},
     "output_type": "execute_result"
    },
    {
     "data": {
      "text/plain": [
       "array([1.14374817e-04, 3.02332573e-01])"
      ]
     },
     "execution_count": 242,
     "metadata": {},
     "output_type": "execute_result"
    }
   ],
   "source": [
    "np.random.seed(1)\n",
    "np.random.rand(2)\n",
    "np.random.rand(2)"
   ]
  },
  {
   "cell_type": "code",
   "execution_count": 243,
   "id": "586c9b4b",
   "metadata": {},
   "outputs": [
    {
     "data": {
      "text/plain": [
       "array([0.417022  , 0.72032449])"
      ]
     },
     "execution_count": 243,
     "metadata": {},
     "output_type": "execute_result"
    },
    {
     "data": {
      "text/plain": [
       "array([1.14374817e-04, 3.02332573e-01])"
      ]
     },
     "execution_count": 243,
     "metadata": {},
     "output_type": "execute_result"
    }
   ],
   "source": [
    "np.random.seed(1)\n",
    "np.random.rand(2)\n",
    "np.random.rand(2)"
   ]
  },
  {
   "cell_type": "code",
   "execution_count": 249,
   "id": "c42f914c",
   "metadata": {},
   "outputs": [
    {
     "data": {
      "text/plain": [
       "162.4"
      ]
     },
     "execution_count": 249,
     "metadata": {},
     "output_type": "execute_result"
    },
    {
     "data": {
      "text/plain": [
       "95.84"
      ]
     },
     "execution_count": 249,
     "metadata": {},
     "output_type": "execute_result"
    },
    {
     "data": {
      "text/plain": [
       "9.789790600416334"
      ]
     },
     "execution_count": 249,
     "metadata": {},
     "output_type": "execute_result"
    }
   ],
   "source": [
    "np.random.seed(0)\n",
    "ht=np.round(np.random.normal(155,10,10),0)\n",
    "np.mean(ht)\n",
    "np.var(ht)\n",
    "np.std(ht)"
   ]
  },
  {
   "cell_type": "code",
   "execution_count": 251,
   "id": "f83b63af",
   "metadata": {},
   "outputs": [
    {
     "data": {
      "text/plain": [
       "array([0., 0., 0., 0., 0.])"
      ]
     },
     "execution_count": 251,
     "metadata": {},
     "output_type": "execute_result"
    }
   ],
   "source": [
    "np.zeros(5)"
   ]
  },
  {
   "cell_type": "code",
   "execution_count": 252,
   "id": "fe70516f",
   "metadata": {},
   "outputs": [
    {
     "data": {
      "text/plain": [
       "array([1., 1., 1., 1., 1.])"
      ]
     },
     "execution_count": 252,
     "metadata": {},
     "output_type": "execute_result"
    }
   ],
   "source": [
    "np.ones(5)"
   ]
  },
  {
   "cell_type": "code",
   "execution_count": 262,
   "id": "c6efbb4e",
   "metadata": {},
   "outputs": [
    {
     "data": {
      "text/plain": [
       "array([nan, nan, nan, nan, nan])"
      ]
     },
     "execution_count": 262,
     "metadata": {},
     "output_type": "execute_result"
    }
   ],
   "source": [
    "arr=np.empty(5)\n",
    "arr.fill(np.nan)\n",
    "arr"
   ]
  },
  {
   "cell_type": "code",
   "execution_count": 264,
   "id": "4b50cff3",
   "metadata": {},
   "outputs": [
    {
     "data": {
      "text/plain": [
       "array([0., 0., 0., 0., 0.])"
      ]
     },
     "execution_count": 264,
     "metadata": {},
     "output_type": "execute_result"
    }
   ],
   "source": [
    "arr.fill(0)\n",
    "arr"
   ]
  },
  {
   "cell_type": "code",
   "execution_count": 266,
   "id": "cba35666",
   "metadata": {},
   "outputs": [
    {
     "data": {
      "text/plain": [
       "array([[0, 1, 2, 3, 4],\n",
       "       [5, 6, 7, 8, 9]])"
      ]
     },
     "execution_count": 266,
     "metadata": {},
     "output_type": "execute_result"
    }
   ],
   "source": [
    "arr=np.arange(10).reshape(2,-1)\n",
    "arr"
   ]
  },
  {
   "cell_type": "code",
   "execution_count": 268,
   "id": "5aa6bb69",
   "metadata": {},
   "outputs": [
    {
     "data": {
      "text/plain": [
       "array([10, 35])"
      ]
     },
     "execution_count": 268,
     "metadata": {},
     "output_type": "execute_result"
    }
   ],
   "source": [
    "np.sum(arr,axis=1)"
   ]
  },
  {
   "cell_type": "code",
   "execution_count": 269,
   "id": "7d7debd1",
   "metadata": {},
   "outputs": [
    {
     "data": {
      "text/plain": [
       "array([ 0,  1,  3,  6, 10, 15, 21, 28, 36, 45], dtype=int32)"
      ]
     },
     "execution_count": 269,
     "metadata": {},
     "output_type": "execute_result"
    }
   ],
   "source": [
    "np.cumsum(arr)"
   ]
  },
  {
   "cell_type": "code",
   "execution_count": 270,
   "id": "6639238d",
   "metadata": {},
   "outputs": [
    {
     "data": {
      "text/plain": [
       "array([[0, 5],\n",
       "       [1, 6],\n",
       "       [2, 7],\n",
       "       [3, 8],\n",
       "       [4, 9]])"
      ]
     },
     "execution_count": 270,
     "metadata": {},
     "output_type": "execute_result"
    }
   ],
   "source": [
    "arr.T"
   ]
  },
  {
   "cell_type": "code",
   "execution_count": 273,
   "id": "1a26a7c2",
   "metadata": {},
   "outputs": [
    {
     "data": {
      "text/plain": [
       "array([6.6536186 , 6.8644362 , 5.25783498, 8.26975462, 4.54563433,\n",
       "       6.04575852, 5.81281615, 7.53277921, 7.46935877, 6.15494743])"
      ]
     },
     "execution_count": 273,
     "metadata": {},
     "output_type": "execute_result"
    }
   ],
   "source": [
    "arr=np.random.normal(6,1,10)\n",
    "arr"
   ]
  },
  {
   "cell_type": "code",
   "execution_count": 274,
   "id": "e6fbf492",
   "metadata": {},
   "outputs": [],
   "source": [
    "np.save('saving_array',arr)"
   ]
  },
  {
   "cell_type": "code",
   "execution_count": 275,
   "id": "4aeabc67",
   "metadata": {},
   "outputs": [
    {
     "data": {
      "text/plain": [
       "array([6.6536186 , 6.8644362 , 5.25783498, 8.26975462, 4.54563433,\n",
       "       6.04575852, 5.81281615, 7.53277921, 7.46935877, 6.15494743])"
      ]
     },
     "execution_count": 275,
     "metadata": {},
     "output_type": "execute_result"
    }
   ],
   "source": [
    "np.load('saving_array.npy')"
   ]
  },
  {
   "cell_type": "code",
   "execution_count": null,
   "id": "f366b918",
   "metadata": {},
   "outputs": [],
   "source": []
  }
 ],
 "metadata": {
  "kernelspec": {
   "display_name": "Python 3 (ipykernel)",
   "language": "python",
   "name": "python3"
  },
  "language_info": {
   "codemirror_mode": {
    "name": "ipython",
    "version": 3
   },
   "file_extension": ".py",
   "mimetype": "text/x-python",
   "name": "python",
   "nbconvert_exporter": "python",
   "pygments_lexer": "ipython3",
   "version": "3.9.13"
  }
 },
 "nbformat": 4,
 "nbformat_minor": 5
}
